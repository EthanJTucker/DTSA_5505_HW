{
 "cells": [
  {
   "cell_type": "markdown",
   "metadata": {
    "deletable": false,
    "editable": false,
    "nbgrader": {
     "cell_type": "markdown",
     "checksum": "462e84dce6cc59da8cf692c7afb947fb",
     "grade": false,
     "grade_id": "cell-9e982d5757397d17",
     "locked": true,
     "schema_version": 3,
     "solution": false,
     "task": false
    }
   },
   "source": [
    "## Homework 2 -  Classification\n",
    "***\n",
    "**Name**: $<$insert name here$>$ \n",
    "***\n",
    "\n",
    "Remember that you are encouraged to discuss the problems with your instructors and classmates, but **you must write all code and solutions on your own**."
   ]
  },
  {
   "cell_type": "markdown",
   "metadata": {
    "deletable": false,
    "editable": false,
    "nbgrader": {
     "cell_type": "markdown",
     "checksum": "1b8b5fbebe15adffeb7e4ffb348dd312",
     "grade": false,
     "grade_id": "cell-9c14fe8b7cedca4b",
     "locked": true,
     "schema_version": 3,
     "solution": false,
     "task": false
    }
   },
   "source": [
    "The rules to be followed for the assignment are:\n",
    "\n",
    "- Do **NOT** load additional packages beyond what we've shared in the cells below.\n",
    "- Some problems with code may be autograded.  If we provide a function or class API **do not** change it.\n",
    "- Do not change the location of the data or data directory.  Use only relative paths to access the data."
   ]
  },
  {
   "cell_type": "code",
   "execution_count": 2,
   "metadata": {
    "deletable": false,
    "editable": false,
    "nbgrader": {
     "cell_type": "code",
     "checksum": "01007295310f323658ea09500447eb71",
     "grade": false,
     "grade_id": "cell-45d9e7721034be56",
     "locked": true,
     "schema_version": 3,
     "solution": false,
     "task": false
    }
   },
   "outputs": [],
   "source": [
    "import argparse\n",
    "import pandas as pd\n",
    "import numpy as np\n",
    "import pickle\n",
    "from pathlib import Path\n",
    "from collections import defaultdict"
   ]
  },
  {
   "cell_type": "markdown",
   "metadata": {
    "deletable": false,
    "editable": false,
    "nbgrader": {
     "cell_type": "markdown",
     "checksum": "c5dc56ea000a733dd06e37d48b9a16fd",
     "grade": false,
     "grade_id": "cell-af752c2b34428286",
     "locked": true,
     "schema_version": 3,
     "solution": false,
     "task": false
    }
   },
   "source": [
    "### [10 points] Problem 1 - Building a Decision Tree\n",
    "***\n",
    "\n",
    "A sample dataset has been provided to you in the './data/dataset.csv' path. Here are the attributes for the dataset. Use this dataset to test your functions.\n",
    "\n",
    "- Age - [\"<=30\", \"31-40\", \">40\"]\n",
    "- Income - [\"low\", \"medium\", \"high\"]\n",
    "- Student - [\"no\", \"yes\"]\n",
    "- Credit Rating - [\"fair\", \"excellent\"]\n",
    "- Loan - [\"no\", \"yes\"]\n",
    "\n",
    "Note:\n",
    "- A sample dataset to test your code has been provided in the location \"data/dataset.csv\". Please maintain this as it would be necessary while grading.\n",
    "- Do not change the variable names of the returned values.\n",
    "- After calculating each of those values, assign them to the corresponding value that is being returned.\n",
    "- The \"Loan\" attribute should be used as the target variable while making calculations for your decision tree."
   ]
  },
  {
   "cell_type": "code",
   "execution_count": 3,
   "metadata": {
    "deletable": false,
    "nbgrader": {
     "cell_type": "code",
     "checksum": "717e97977d3c8fcfaf4ecf60163b890d",
     "grade": false,
     "grade_id": "cell-61181ec0d8dd26b7",
     "locked": false,
     "schema_version": 3,
     "solution": true,
     "task": false
    }
   },
   "outputs": [],
   "source": [
    "import math\n",
    "import pandas as pd\n",
    "\n",
    "testdata = pd.read_csv(\"./data/dataset.csv\")\n",
    "\n",
    "def Info(df, target = \"Loan\", feature = None):\n",
    "    \"\"\"\n",
    "    Helper computes entropy for either full dataset or split over feature\n",
    "    Input: pd.DataFrame df, int m, string feature\n",
    "    Output: float Information\n",
    "    \"\"\"\n",
    "    Information = 0\n",
    "    size_D = len(df)\n",
    "    \n",
    "    m = len(df[target].unique())\n",
    "    for i in range(m):\n",
    "        size_C_i = len(df[df[target] == df[target].unique()[i]])\n",
    "\n",
    "        p_i = size_C_i / size_D\n",
    "        Information = Information - p_i * math.log2(p_i)\n",
    "    \n",
    "    if feature != None: #Instead of calculating Info(D), calculate Info_A(D)\n",
    "        InfoA = 0\n",
    "        v = len(df[feature].unique())\n",
    "        for i in range(v):\n",
    "            Info_Di = Info(df[df[feature] == df[feature].unique()[i]], feature = None)\n",
    "            size_Di = len(df[df[feature] == df[feature].unique()[i]])\n",
    "            InfoA = InfoA + (size_Di / size_D) * Info_Di\n",
    "        \n",
    "        Information = InfoA # To calculate gain take Info(df) - Info(df, feature desired)\n",
    "    \n",
    "    return(Information)\n",
    "\n",
    "def information_gain_target(dataset_file): \n",
    "    \n",
    "#        Input: dataset_file - A string variable which references the path to the dataset file.\n",
    "#        Output: ig_loan - A floating point variable which holds the information gain associated with the target variable.\n",
    "#        \n",
    "#        NOTE: \n",
    "#        1. Return the information gain associated with the target variable in the dataset.\n",
    "#        2. The Loan attribute is the target variable\n",
    "#        3. The pandas dataframe has the following attributes: Age, Income, Student, Credit Rating, Loan\n",
    "#        4. Perform your calculations for information gain and assign it to the variable ig_loan\n",
    "\n",
    "\n",
    "    df = pd.read_csv(dataset_file)\n",
    "    ig_loan = 0\n",
    "    \n",
    "    # your code here\n",
    "    \n",
    "    ig_loan = Info(df, target = \"Loan\")\n",
    "    \n",
    "    return ig_loan"
   ]
  },
  {
   "cell_type": "code",
   "execution_count": 4,
   "metadata": {
    "deletable": false,
    "editable": false,
    "nbgrader": {
     "cell_type": "code",
     "checksum": "4abccde1bb451cbd38c84288ac51b23c",
     "grade": true,
     "grade_id": "cell-831583db0fac12a6",
     "locked": true,
     "points": 5,
     "schema_version": 3,
     "solution": false,
     "task": false
    }
   },
   "outputs": [],
   "source": [
    "\n",
    "# This cell has hidden test cases that will run after you submit your assignment. \n"
   ]
  },
  {
   "cell_type": "code",
   "execution_count": 5,
   "metadata": {
    "deletable": false,
    "editable": false,
    "nbgrader": {
     "cell_type": "code",
     "checksum": "f18214f9c165a7a62c9ec06f898e46d2",
     "grade": false,
     "grade_id": "cell-2d91bfae58ea0c8e",
     "locked": true,
     "schema_version": 3,
     "solution": false,
     "task": false
    }
   },
   "outputs": [],
   "source": [
    "attribute_values = {\n",
    "    \"Age\": [\"<=30\", \"31-40\", \">40\"],\n",
    "    \"Income\": [\"low\", \"medium\", \"high\"],\n",
    "    \"Student\": [\"yes\", \"no\"],\n",
    "    \"Credit Rating\": [\"fair\", \"excellent\"]\n",
    "}\n",
    "\n",
    "attributes = [\"Age\", \"Income\", \"Student\", \"Credit Rating\"]"
   ]
  },
  {
   "cell_type": "code",
   "execution_count": 6,
   "metadata": {
    "deletable": false,
    "nbgrader": {
     "cell_type": "code",
     "checksum": "77bbcd26dcf0274a70d84565e82683c9",
     "grade": false,
     "grade_id": "cell-dbd31d0b008467ae",
     "locked": false,
     "schema_version": 3,
     "solution": true,
     "task": false
    }
   },
   "outputs": [],
   "source": [
    "def information_gain(p_count_yes, p_count_no):\n",
    "    \n",
    "#   A helper function that returns the information gain when given counts of number of yes and no values. \n",
    "#   Please complete this function before you proceed to the information_gain_attributes function below.\n",
    "    \n",
    "    # your code here\n",
    "    yes_list = [\"yes\" for i in len(range(p_count_yes))]\n",
    "    no_list = [\"no\" for i in len(range(p_count_no))]\n",
    "    full_list = yes_list + no_list\n",
    "    dic = {\"Column\": full_list}\n",
    "    df = pd.DataFrame(dic)\n",
    "    \n",
    "    ig = Info(df, target = \"Column\")\n",
    "    \n",
    "    return ig"
   ]
  },
  {
   "cell_type": "code",
   "execution_count": 7,
   "metadata": {
    "deletable": false,
    "nbgrader": {
     "cell_type": "code",
     "checksum": "c985845505f6d46268dcfcf6284d88ce",
     "grade": false,
     "grade_id": "cell-540b05dbe445a68b",
     "locked": false,
     "schema_version": 3,
     "solution": true,
     "task": false
    }
   },
   "outputs": [],
   "source": [
    "import operator\n",
    "\n",
    "def information_gain_attributes(dataset_file, ig_loan, attributes, attribute_values):\n",
    "    \n",
    "#        Input: \n",
    "#            1. dataset_file - A string variable which references the path to the dataset file.\n",
    "#            2. ig_loan - A floating point variable representing the information gain of the target variable \"Loan\".\n",
    "#            3. attributes - A python list which has all the attributes of the dataset\n",
    "#            4. attribute_values - A python dictionary representing the values each attribute can hold.\n",
    "#            \n",
    "#        Output: results - A python dictionary representing the information gain associated with each variable.\n",
    "#            1. ig_attributes - A sub dictionary representing the information gain for each attribute.\n",
    "#            2. best_attribute - Returns the attribute which has the highest information gain.\n",
    "#        \n",
    "#        NOTE: \n",
    "#        1. The Loan attribute is the target variable\n",
    "#        2. The pandas dataframe has the following attributes: Age, Income, Student, Credit Rating, Loan\n",
    "    \n",
    "    results = {\n",
    "        \"ig_attributes\": {\n",
    "            \"Age\": 0,\n",
    "            \"Income\": 0,\n",
    "            \"Student\": 0,\n",
    "            \"Credit Rating\": 0\n",
    "        },\n",
    "        \"best_attribute\": \"\"\n",
    "    }\n",
    "    \n",
    "    df = pd.read_csv(dataset_file)\n",
    "    d_range = len(df)\n",
    "    \n",
    "    current_best = (0, None)\n",
    "    \n",
    "    for attribute in attributes:\n",
    "        ig_attribute = Info(df, feature = attribute)\n",
    "        #value_counts = dict()\n",
    "        #vcount = df[attribute].value_counts()\n",
    "        #for att_value in attribute_values[attribute]:\n",
    "            \n",
    "            # your code here\n",
    "        \n",
    "        results[\"ig_attributes\"][attribute] = ig_loan - ig_attribute\n",
    "        \n",
    "    \n",
    "    results[\"best_attribute\"] = max(results[\"ig_attributes\"].items(), key=operator.itemgetter(1))[0]\n",
    "    \n",
    "    return results"
   ]
  },
  {
   "cell_type": "code",
   "execution_count": 8,
   "metadata": {
    "deletable": false,
    "editable": false,
    "nbgrader": {
     "cell_type": "code",
     "checksum": "e22399a14e54fc2a36a46cce5fb475e5",
     "grade": true,
     "grade_id": "cell-dd2742d4c14f088e",
     "locked": true,
     "points": 5,
     "schema_version": 3,
     "solution": false,
     "task": false
    }
   },
   "outputs": [],
   "source": [
    "\n",
    "# This cell has hidden test cases that will run after you submit your assignment. \n"
   ]
  },
  {
   "cell_type": "markdown",
   "metadata": {
    "deletable": false,
    "editable": false,
    "nbgrader": {
     "cell_type": "markdown",
     "checksum": "37c9c814aef3c2a4651202ceab883888",
     "grade": false,
     "grade_id": "cell-d02bc39e9c144563",
     "locked": true,
     "schema_version": 3,
     "solution": false,
     "task": false
    }
   },
   "source": [
    "### [10 points] Problem 2 - Building a Naive Bayes Classifier\n",
    "***\n",
    "\n",
    "A sample dataset has been provided to you in the './data/dataset.csv' path. Here are the attributes for the dataset. Use this dataset to test your functions.\n",
    "\n",
    "- Age - [\"<=30\", \"31-40\", \">40\"]\n",
    "- Income - [\"low\", \"medium\", \"high\"]\n",
    "- Student - [\"no\", \"yes\"]\n",
    "- Credit Rating - [\"fair\", \"excellent\"]\n",
    "- Loan - [\"no\", \"yes\"]\n",
    "\n",
    "Note:\n",
    "- A sample dataset to test your code has been provided in the location \"data/dataset.csv\". Please maintain this as it would be necessary while grading.\n",
    "- Do not change the variable names of the returned values.\n",
    "- After calculating each of those values, assign them to the corresponding value that is being returned.\n",
    "- The \"Loan\" attribute should be used as the target variable while making calculations for your naive bayes classifier."
   ]
  },
  {
   "cell_type": "code",
   "execution_count": 17,
   "metadata": {
    "deletable": false,
    "nbgrader": {
     "cell_type": "code",
     "checksum": "9b72530ddbb848c247630be225831952",
     "grade": false,
     "grade_id": "cell-0d7104243d876943",
     "locked": false,
     "schema_version": 3,
     "solution": true,
     "task": false
    }
   },
   "outputs": [],
   "source": [
    "from collections import defaultdict\n",
    "\n",
    "def naive_bayes(dataset_file, attributes, attribute_values):\n",
    "\n",
    "#   Input:\n",
    "#       1. dataset_file - A string variable which references the path to the dataset file.\n",
    "#       2. attributes - A python list which has all the attributes of the dataset\n",
    "#       3. attribute_values - A python dictionary representing the values each attribute can hold.\n",
    "#        \n",
    "#   Output: A proabbilities dictionary which contains the counts of when the Loan target variable is yes or no\n",
    "#       depending on the input attribute.\n",
    "#                \n",
    "#   Hint: Starter code has been provided to you to calculate the counts. Your code is very similar to the previous problem.\n",
    "\n",
    "    probabilities = {\n",
    "        \"Age\": { \"<=30\": {\"yes\": 0, \"no\": 0}, \"31-40\": {\"yes\": 0, \"no\": 0}, \">40\": {\"yes\": 0, \"no\": 0} },\n",
    "        \"Income\": { \"low\": {\"yes\": 0, \"no\": 0}, \"medium\": {\"yes\": 0, \"no\": 0}, \"high\": {\"yes\": 0, \"no\": 0}},\n",
    "        \"Student\": { \"yes\": {\"yes\": 0, \"no\": 0}, \"no\": {\"yes\": 0, \"no\": 0} },\n",
    "        \"Credit Rating\": { \"fair\": {\"yes\": 0, \"no\": 0}, \"excellent\": {\"yes\": 0, \"no\": 0} },\n",
    "        \"Loan\": {\"yes\": 0, \"no\": 0}\n",
    "    }\n",
    "    \n",
    "    df = pd.read_csv(dataset_file)\n",
    "    d_range = len(df)\n",
    "    \n",
    "    vcount = df[\"Loan\"].value_counts()\n",
    "    vcount_loan_yes = vcount[\"yes\"]\n",
    "    vcount_loan_no = vcount[\"no\"]\n",
    "    \n",
    "    probabilities[\"Loan\"][\"yes\"] = vcount_loan_yes/d_range\n",
    "    probabilities[\"Loan\"][\"no\"] = vcount_loan_no/d_range\n",
    "    \n",
    "    for attribute in attributes:\n",
    "        value_counts = dict()\n",
    "        vcount = df[attribute].value_counts()\n",
    "        for att_value in attribute_values[attribute]:\n",
    "            \n",
    "            # your code here\n",
    "            filtered_df_yes = df[df[\"Loan\"] == \"yes\"]\n",
    "            num_yes = len(filtered_df_yes[filtered_df_yes[attribute] == att_value])\n",
    "            filtered_range_yes = len(filtered_df_yes)\n",
    "            \n",
    "            filtered_df_no = df[df[\"Loan\"] == \"no\"]\n",
    "            num_no = len(filtered_df_no[filtered_df_no[attribute] == att_value])\n",
    "            filtered_range_no = len(filtered_df_no)\n",
    "            \n",
    "            \n",
    "            probabilities[attribute][att_value][\"yes\"] = num_yes/filtered_range_yes\n",
    "            probabilities[attribute][att_value][\"no\"] = num_no/filtered_range_no\n",
    "    \n",
    "    return probabilities"
   ]
  },
  {
   "cell_type": "code",
   "execution_count": 18,
   "metadata": {},
   "outputs": [
    {
     "data": {
      "text/html": [
       "<div>\n",
       "<style scoped>\n",
       "    .dataframe tbody tr th:only-of-type {\n",
       "        vertical-align: middle;\n",
       "    }\n",
       "\n",
       "    .dataframe tbody tr th {\n",
       "        vertical-align: top;\n",
       "    }\n",
       "\n",
       "    .dataframe thead th {\n",
       "        text-align: right;\n",
       "    }\n",
       "</style>\n",
       "<table border=\"1\" class=\"dataframe\">\n",
       "  <thead>\n",
       "    <tr style=\"text-align: right;\">\n",
       "      <th></th>\n",
       "      <th>Age</th>\n",
       "      <th>Income</th>\n",
       "      <th>Student</th>\n",
       "      <th>Credit Rating</th>\n",
       "      <th>Loan</th>\n",
       "    </tr>\n",
       "  </thead>\n",
       "  <tbody>\n",
       "    <tr>\n",
       "      <th>0</th>\n",
       "      <td>&lt;=30</td>\n",
       "      <td>high</td>\n",
       "      <td>no</td>\n",
       "      <td>fair</td>\n",
       "      <td>no</td>\n",
       "    </tr>\n",
       "    <tr>\n",
       "      <th>1</th>\n",
       "      <td>&lt;=30</td>\n",
       "      <td>high</td>\n",
       "      <td>no</td>\n",
       "      <td>excellent</td>\n",
       "      <td>no</td>\n",
       "    </tr>\n",
       "    <tr>\n",
       "      <th>2</th>\n",
       "      <td>31-40</td>\n",
       "      <td>high</td>\n",
       "      <td>no</td>\n",
       "      <td>fair</td>\n",
       "      <td>yes</td>\n",
       "    </tr>\n",
       "    <tr>\n",
       "      <th>3</th>\n",
       "      <td>&gt;40</td>\n",
       "      <td>medium</td>\n",
       "      <td>no</td>\n",
       "      <td>fair</td>\n",
       "      <td>yes</td>\n",
       "    </tr>\n",
       "    <tr>\n",
       "      <th>4</th>\n",
       "      <td>&gt;40</td>\n",
       "      <td>low</td>\n",
       "      <td>yes</td>\n",
       "      <td>excellent</td>\n",
       "      <td>no</td>\n",
       "    </tr>\n",
       "    <tr>\n",
       "      <th>5</th>\n",
       "      <td>31-40</td>\n",
       "      <td>low</td>\n",
       "      <td>yes</td>\n",
       "      <td>excellent</td>\n",
       "      <td>yes</td>\n",
       "    </tr>\n",
       "    <tr>\n",
       "      <th>6</th>\n",
       "      <td>&lt;=30</td>\n",
       "      <td>medium</td>\n",
       "      <td>no</td>\n",
       "      <td>fair</td>\n",
       "      <td>no</td>\n",
       "    </tr>\n",
       "    <tr>\n",
       "      <th>7</th>\n",
       "      <td>&lt;=30</td>\n",
       "      <td>low</td>\n",
       "      <td>yes</td>\n",
       "      <td>fair</td>\n",
       "      <td>yes</td>\n",
       "    </tr>\n",
       "    <tr>\n",
       "      <th>8</th>\n",
       "      <td>&gt;40</td>\n",
       "      <td>medium</td>\n",
       "      <td>yes</td>\n",
       "      <td>fair</td>\n",
       "      <td>yes</td>\n",
       "    </tr>\n",
       "    <tr>\n",
       "      <th>9</th>\n",
       "      <td>&lt;=30</td>\n",
       "      <td>medium</td>\n",
       "      <td>yes</td>\n",
       "      <td>excellent</td>\n",
       "      <td>yes</td>\n",
       "    </tr>\n",
       "    <tr>\n",
       "      <th>10</th>\n",
       "      <td>31-40</td>\n",
       "      <td>high</td>\n",
       "      <td>yes</td>\n",
       "      <td>fair</td>\n",
       "      <td>yes</td>\n",
       "    </tr>\n",
       "    <tr>\n",
       "      <th>11</th>\n",
       "      <td>&gt;40</td>\n",
       "      <td>medium</td>\n",
       "      <td>no</td>\n",
       "      <td>excellent</td>\n",
       "      <td>no</td>\n",
       "    </tr>\n",
       "  </tbody>\n",
       "</table>\n",
       "</div>"
      ],
      "text/plain": [
       "      Age  Income Student Credit Rating Loan\n",
       "0    <=30    high      no          fair   no\n",
       "1    <=30    high      no     excellent   no\n",
       "2   31-40    high      no          fair  yes\n",
       "3     >40  medium      no          fair  yes\n",
       "4     >40     low     yes     excellent   no\n",
       "5   31-40     low     yes     excellent  yes\n",
       "6    <=30  medium      no          fair   no\n",
       "7    <=30     low     yes          fair  yes\n",
       "8     >40  medium     yes          fair  yes\n",
       "9    <=30  medium     yes     excellent  yes\n",
       "10  31-40    high     yes          fair  yes\n",
       "11    >40  medium      no     excellent   no"
      ]
     },
     "execution_count": 18,
     "metadata": {},
     "output_type": "execute_result"
    }
   ],
   "source": [
    "testdf = pd.read_csv(path)\n",
    "testdf"
   ]
  },
  {
   "cell_type": "code",
   "execution_count": 19,
   "metadata": {},
   "outputs": [
    {
     "data": {
      "text/plain": [
       "{'Age': {'<=30': {'yes': 0.2857142857142857, 'no': 0.6},\n",
       "  '31-40': {'yes': 0.42857142857142855, 'no': 0.0},\n",
       "  '>40': {'yes': 0.2857142857142857, 'no': 0.4}},\n",
       " 'Income': {'low': {'yes': 0.2857142857142857, 'no': 0.2},\n",
       "  'medium': {'yes': 0.42857142857142855, 'no': 0.4},\n",
       "  'high': {'yes': 0.2857142857142857, 'no': 0.4}},\n",
       " 'Student': {'yes': {'yes': 0.7142857142857143, 'no': 0.2},\n",
       "  'no': {'yes': 0.2857142857142857, 'no': 0.8}},\n",
       " 'Credit Rating': {'fair': {'yes': 0.7142857142857143, 'no': 0.4},\n",
       "  'excellent': {'yes': 0.2857142857142857, 'no': 0.6}},\n",
       " 'Loan': {'yes': 0.5833333333333334, 'no': 0.4166666666666667}}"
      ]
     },
     "execution_count": 19,
     "metadata": {},
     "output_type": "execute_result"
    }
   ],
   "source": [
    "path = \"data/dataset.csv\"\n",
    "\n",
    "att_values = {\n",
    "    \"Age\": [\"<=30\", \"31-40\", \">40\"],\n",
    "    \"Income\": [\"low\", \"medium\", \"high\"],\n",
    "    \"Student\": [\"yes\", \"no\"],\n",
    "    \"Credit Rating\": [\"fair\", \"excellent\"]\n",
    "}\n",
    "testatts = [\"Age\", \"Income\", \"Student\", \"Credit Rating\"]\n",
    "naive_bayes(path, testatts, att_values)"
   ]
  },
  {
   "cell_type": "code",
   "execution_count": 11,
   "metadata": {
    "deletable": false,
    "editable": false,
    "nbgrader": {
     "cell_type": "code",
     "checksum": "c65d272ca5920fc09bf99a8c9b9d9ff4",
     "grade": true,
     "grade_id": "cell-1029d20562b90189",
     "locked": true,
     "points": 10,
     "schema_version": 3,
     "solution": false,
     "task": false
    }
   },
   "outputs": [],
   "source": [
    "\n",
    "# This cell has hidden test cases that will run after you submit your assignment. \n"
   ]
  }
 ],
 "metadata": {
  "kernelspec": {
   "display_name": "Python 3",
   "language": "python",
   "name": "python3"
  },
  "language_info": {
   "codemirror_mode": {
    "name": "ipython",
    "version": 3
   },
   "file_extension": ".py",
   "mimetype": "text/x-python",
   "name": "python",
   "nbconvert_exporter": "python",
   "pygments_lexer": "ipython3",
   "version": "3.7.6"
  }
 },
 "nbformat": 4,
 "nbformat_minor": 5
}
